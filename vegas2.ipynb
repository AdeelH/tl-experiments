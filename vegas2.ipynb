{
 "cells": [
  {
   "cell_type": "code",
   "execution_count": 1,
   "metadata": {},
   "outputs": [
    {
     "name": "stdout",
     "output_type": "stream",
     "text": [
      "Wed Jul  3 12:43:55 2019       \n",
      "+-----------------------------------------------------------------------------+\n",
      "| NVIDIA-SMI 430.26       Driver Version: 430.26       CUDA Version: 10.2     |\n",
      "|-------------------------------+----------------------+----------------------+\n",
      "| GPU  Name        Persistence-M| Bus-Id        Disp.A | Volatile Uncorr. ECC |\n",
      "| Fan  Temp  Perf  Pwr:Usage/Cap|         Memory-Usage | GPU-Util  Compute M. |\n",
      "|===============================+======================+======================|\n",
      "|   0  GeForce GTX 106...  Off  | 00000000:01:00.0  On |                  N/A |\n",
      "| N/A   56C    P0    25W /  N/A |    202MiB /  6078MiB |      0%      Default |\n",
      "+-------------------------------+----------------------+----------------------+\n",
      "                                                                               \n",
      "+-----------------------------------------------------------------------------+\n",
      "| Processes:                                                       GPU Memory |\n",
      "|  GPU       PID   Type   Process name                             Usage      |\n",
      "|=============================================================================|\n",
      "|    0      1703      G   /usr/lib/xorg/Xorg                           200MiB |\n",
      "+-----------------------------------------------------------------------------+\n"
     ]
    }
   ],
   "source": [
    "!nvidia-smi"
   ]
  },
  {
   "cell_type": "code",
   "execution_count": 2,
   "metadata": {},
   "outputs": [],
   "source": [
    "import os\n",
    "from pathlib import Path\n",
    "from glob import glob\n",
    "\n",
    "import numpy as np\n",
    "import torch\n",
    "from torch import nn\n",
    "from torch import optim\n",
    "from torch.nn import functional as F\n",
    "from torch.utils import data\n",
    "from torchvision import datasets as ds, models, transforms as tf, utils\n",
    "\n",
    "import matplotlib.pyplot as plt\n",
    "%reload_ext autoreload\n",
    "%autoreload 2\n",
    "%matplotlib inline\n",
    "\n",
    "from fastai.vision import *\n",
    "from fastai.metrics import error_rate"
   ]
  },
  {
   "cell_type": "code",
   "execution_count": 3,
   "metadata": {},
   "outputs": [],
   "source": []
  },
  {
   "cell_type": "markdown",
   "metadata": {},
   "source": [
    "# Data"
   ]
  },
  {
   "cell_type": "code",
   "execution_count": 4,
   "metadata": {},
   "outputs": [],
   "source": [
    "class SpacenetVegas(ds.VisionDataset):\n",
    "    def __init__(self, path='data', x_folder='train-img', y_folder='train-labels', exts=['npy'], load_fn=np.load, x_tf=None, y_tf=None, cache=None):\n",
    "        super(SpacenetVegas).__init__()\n",
    "        self.x_path = f'{path}/{x_folder}'\n",
    "        self.y_path = f'{path}/{y_folder}'\n",
    "        self._load_filenames(path, x_folder, y_folder, exts)\n",
    "        \n",
    "        self.x_tf = x_tf or (lambda x: x)\n",
    "        self.y_tf = y_tf or (lambda x: x)\n",
    "        self.x_tf2 = RandomFlip()\n",
    "\n",
    "#         self.cache = {i: self._load_xy_from_file(i) for i in range(len(self.fnames))}\n",
    "        if cache is None:\n",
    "            self.cache = {}\n",
    "            for i in range(len(self.fnames)):\n",
    "                self.cache[i] = self._load_xy_from_file(i)\n",
    "                if (i + 1) % 1000 == 0:\n",
    "                    print(f'Cached {len(self.cache)}  x, y pairs')\n",
    "        else:\n",
    "            self.cache = cache\n",
    "\n",
    "        self.is_small_class = torch.ByteTensor([v[1] for v in self.cache.values()])\n",
    "\n",
    "        print(f'Found {len(self.fnames)} x, y pairs')\n",
    "        print(f'Cached {len(self.cache)}  x, y pairs')\n",
    "        \n",
    "    def __len__(self):\n",
    "        return len(self.fnames)\n",
    "    \n",
    "    def __getitem__(self, i):\n",
    "        if isinstance(i, (int, np.integer)):\n",
    "            return self._load_xy(i)\n",
    "        if isinstance(i, np.ndarray) or isinstance(i, torch.Tensor):\n",
    "            i = i.squeeze()\n",
    "            assert i.ndim in (0, 1), \"too many dimensions\"\n",
    "            if i.ndim == 0:\n",
    "                return self._load_xy(i)\n",
    "            return [self._load_xy(j) for j in i]\n",
    "        if isinstance(i, slice):\n",
    "            return [self._load_xy(j) for j in range(*i.indices(len(self.fnames)))]\n",
    "        assert False, f\"__getitem__(i): Invalid index\"\n",
    "\n",
    "#     def get_x(self, i):\n",
    "#         if isinstance(i, (int, np.integer)):\n",
    "#             return self._load_xy(i)\n",
    "#         if isinstance(i, np.ndarray) or isinstance(i, torch.Tensor):\n",
    "#             i = i.squeeze()\n",
    "#             assert i.ndim in (0, 1), \"too many dimensions\"\n",
    "#             if i.ndim == 0:\n",
    "#                 return _load_x(i)\n",
    "#             return [self._load_x(j) for j in i]\n",
    "#         if isinstance(i, slice):\n",
    "#             return [self._load_x(j) for j in range(*i.indices(len(self.fnames)))]\n",
    "#         assert False, f\"__getitem__(i): Invalid index\"\n",
    "\n",
    "    def _load_x(self, i):\n",
    "        return self.cache[i][0]\n",
    "\n",
    "    def _load_xy(self, i):\n",
    "        x, y = self.cache[i]\n",
    "        return self.x_tf2(x), y\n",
    "\n",
    "    def _load_xy_from_file(self, i):\n",
    "        x = np.load(f'{self.x_path}/{self.fnames[i]}').astype(float) / 255\n",
    "        y = np.load(f'{self.y_path}/{self.fnames[i]}')\n",
    "        \n",
    "        return self.x_tf(x), self.y_tf(y)\n",
    "\n",
    "    def _load_filenames(self, path, x_folder, y_folder, exts):\n",
    "        query_expr = f\"*[{'|'.join('.' + ext for ext in exts)}]\"\n",
    "        print(f'{self.x_path}/{query_expr}/')\n",
    "        x_fnames = [Path(f).name for f in glob(f'{self.x_path}/{query_expr}')]\n",
    "        y_fnames = [Path(f).name for f in glob(f'{self.y_path}/{query_expr}')]\n",
    "        self._verify_xy_pairs(x_fnames, y_fnames)\n",
    "        \n",
    "        self.fnames = x_fnames\n",
    "\n",
    "    def _verify_xy_pairs(self, x_fnames, y_fnames):\n",
    "         assert set(x_fnames) == set(y_fnames)"
   ]
  },
  {
   "cell_type": "markdown",
   "metadata": {},
   "source": [
    "## Transforms"
   ]
  },
  {
   "cell_type": "code",
   "execution_count": 5,
   "metadata": {},
   "outputs": [],
   "source": [
    "class Downsample(object):\n",
    "    def __init__(self, factor):\n",
    "        self.factor = factor\n",
    "    \n",
    "    def __call__(self, arr):\n",
    "        return np.ascontiguousarray(arr[::self.factor, ::self.factor])\n",
    "    \n",
    "    def __repr__(self):\n",
    "        return self.__class__.__name__ + f'(factor={self.factor})'\n",
    "\n",
    "\n",
    "class RandomFlip(object):\n",
    "    def __init__(self, h_prob=0.5, v_prob=0.5):\n",
    "        self.h_prob = h_prob\n",
    "        self.v_prob = v_prob\n",
    "    \n",
    "    def __call__(self, arr):\n",
    "        if torch.rand(1) < self.v_prob:\n",
    "            arr = arr.flip(1)\n",
    "        if torch.rand(1) < self.h_prob:\n",
    "            arr = arr.flip(2)\n",
    "        return arr\n",
    "\n",
    "    def __repr__(self):\n",
    "        return self.__class__.__name__ + f'(h_prob={self.h_prob}, v_prob={self.v_prob})'\n",
    "\n",
    "\n",
    "class ChannelSelect(object):\n",
    "    def __init__(self, channels):\n",
    "        self.channels = channels\n",
    "    \n",
    "    def __call__(self, arr):\n",
    "        return np.ascontiguousarray(arr[..., self.channels])\n",
    "\n",
    "    def __repr__(self):\n",
    "        return self.__class__.__name__ + f'(channels={self.channels})'\n",
    "    \n"
   ]
  },
  {
   "cell_type": "code",
   "execution_count": 28,
   "metadata": {},
   "outputs": [
    {
     "name": "stdout",
     "output_type": "stream",
     "text": [
      "train_transform Compose(\n",
      "    ChannelSelect(channels=[7, 6, 5])\n",
      "    Downsample(factor=8)\n",
      "    Lambda()\n",
      ")\n",
      "val_transform Compose(\n",
      "    ChannelSelect(channels=[7, 6, 5])\n",
      "    Downsample(factor=8)\n",
      "    Lambda()\n",
      ")\n",
      "y_transform Compose(\n",
      "    Downsample(factor=8)\n",
      "    Lambda()\n",
      ")\n"
     ]
    }
   ],
   "source": [
    "channels = [7, 6, 5]\n",
    "# channels = [4, 2, 1]\n",
    "\n",
    "train_transform = tf.Compose([\n",
    "    ChannelSelect(channels),\n",
    "    Downsample(8),\n",
    "    tf.Lambda(lambda x: (torch.Tensor(x).permute(2, 0, 1)))\n",
    "])\n",
    "\n",
    "val_transform = tf.Compose([\n",
    "    ChannelSelect(channels),\n",
    "    Downsample(8),\n",
    "    tf.Lambda(lambda x: torch.Tensor(x).permute(2, 0, 1))\n",
    "])\n",
    "\n",
    "y_transform = tf.Compose([\n",
    "    Downsample(8),\n",
    "    tf.Lambda(lambda x: (torch.Tensor(x) == 1).any().long())\n",
    "])\n",
    "\n",
    "print('train_transform', train_transform)\n",
    "print('val_transform', val_transform)\n",
    "print('y_transform', y_transform)"
   ]
  },
  {
   "cell_type": "code",
   "execution_count": 29,
   "metadata": {},
   "outputs": [],
   "source": [
    "import pickle\n",
    "\n",
    "# with open('train_ds_753_2.pkl', 'wb') as f:\n",
    "#     pickle.dump(train_ds.cache, f)\n",
    "\n",
    "with open('train_ds_765_2.pkl', 'rb') as f:\n",
    "    cache = pickle.load(f)"
   ]
  },
  {
   "cell_type": "code",
   "execution_count": 30,
   "metadata": {},
   "outputs": [
    {
     "name": "stdout",
     "output_type": "stream",
     "text": [
      "data/train-img/*[.npy]/\n",
      "Found 17334 x, y pairs\n",
      "Cached 17334  x, y pairs\n"
     ]
    }
   ],
   "source": [
    "import copy\n",
    "\n",
    "# train_ds = SpacenetVegas(x_tf=train_transform, y_tf=y_transform)\n",
    "train_ds = SpacenetVegas(x_tf=train_transform, y_tf=y_transform, cache=cache)\n",
    "# val_ds   = SpacenetVegas(x_tf=val_transform  , y_tf=y_transform)\n",
    "val_ds   = copy.deepcopy(train_ds)\n",
    "\n",
    "assert len(train_ds) == len(val_ds)"
   ]
  },
  {
   "cell_type": "code",
   "execution_count": 31,
   "metadata": {},
   "outputs": [
    {
     "data": {
      "text/plain": [
       "<matplotlib.image.AxesImage at 0x7fe75c46aeb8>"
      ]
     },
     "execution_count": 31,
     "metadata": {},
     "output_type": "execute_result"
    },
    {
     "data": {
      "image/png": "[encoded data removed]",
      "text/plain": [
       "<Figure size 432x288 with 1 Axes>"
      ]
     },
     "metadata": {
      "needs_background": "light"
     },
     "output_type": "display_data"
    }
   ],
   "source": [
    "train_ds.x_tf2 = RandomFlip()\n",
    "val_ds.x_tf2 = lambda x: x\n",
    "plt.imshow(train_ds[0][0].permute(1, 2, 0))"
   ]
  },
  {
   "cell_type": "code",
   "execution_count": 32,
   "metadata": {},
   "outputs": [
    {
     "data": {
      "text/plain": [
       "(17334, 17334)"
      ]
     },
     "execution_count": 32,
     "metadata": {},
     "output_type": "execute_result"
    }
   ],
   "source": [
    "len(train_ds.cache), len(val_ds.cache)"
   ]
  },
  {
   "cell_type": "code",
   "execution_count": 33,
   "metadata": {},
   "outputs": [],
   "source": [
    "# train_ds.is_small_class = torch.ByteTensor([v[1] for v in train_ds.cache.values()])\n",
    "# (1-train_ds.is_small_class).sum()"
   ]
  },
  {
   "cell_type": "code",
   "execution_count": 34,
   "metadata": {},
   "outputs": [],
   "source": [
    "train_split_size = int(len(train_ds) * .85 // 1)\n",
    "val_split_size = len(train_ds) - train_split_size\n",
    "train_split_size, val_split_size\n",
    "\n",
    "inds = np.arange(len(train_ds))\n",
    "np.random.shuffle(inds)"
   ]
  },
  {
   "cell_type": "code",
   "execution_count": 35,
   "metadata": {},
   "outputs": [],
   "source": [
    "train_sampler = data.SubsetRandomSampler(inds[:train_split_size])\n",
    "val_sampler = data.SubsetRandomSampler(inds[train_split_size:])"
   ]
  },
  {
   "cell_type": "markdown",
   "metadata": {},
   "source": [
    "# Model"
   ]
  },
  {
   "cell_type": "code",
   "execution_count": 16,
   "metadata": {},
   "outputs": [],
   "source": [
    "class ClfModel(nn.Module):\n",
    "\n",
    "    def __init__(self, params):\n",
    "        super().__init__()\n",
    "\n",
    "        self.net = params['base_model']\n",
    "        self.net.fc = nn.Linear(self.net.fc.in_features, params['nclasses'])\n",
    "\n",
    "    def forward(self, X):\n",
    "        out = self.net(X)\n",
    "        return out\n"
   ]
  },
  {
   "cell_type": "code",
   "execution_count": 17,
   "metadata": {},
   "outputs": [],
   "source": [
    "model_params = {}\n",
    "model_params['base_model'] = models.resnet18(pretrained=False).cuda()\n",
    "model_params['nclasses'] = 2\n"
   ]
  },
  {
   "cell_type": "code",
   "execution_count": 18,
   "metadata": {},
   "outputs": [],
   "source": [
    "model_RGB = ClfModel(model_params).cuda()\n",
    "model_RGB.net._modules['conv1'] = nn.Conv2d(3, 64, kernel_size=(3, 3), stride=(1, 1), padding=(1, 1), bias=False).cuda()\n",
    "model_RGB.net._modules['maxpool'] = nn.Identity().cuda()"
   ]
  },
  {
   "cell_type": "code",
   "execution_count": 46,
   "metadata": {},
   "outputs": [
    {
     "data": {
      "text/plain": [
       "IncompatibleKeys(missing_keys=[], unexpected_keys=[])"
      ]
     },
     "execution_count": 46,
     "metadata": {},
     "output_type": "execute_result"
    }
   ],
   "source": [
    "model_save_name = 'resnet18_421_3x3'\n",
    "path = F\"models/{model_save_name}\"\n",
    "state = torch.load(path)\n",
    "model_RGB.load_state_dict(state['model'])"
   ]
  },
  {
   "cell_type": "code",
   "execution_count": 48,
   "metadata": {},
   "outputs": [],
   "source": [
    "model = model_RGB"
   ]
  },
  {
   "cell_type": "code",
   "execution_count": 49,
   "metadata": {},
   "outputs": [],
   "source": [
    "for p in model.parameters():\n",
    "    p.requires_grad = False\n",
    "\n",
    "for p in model.net._modules['conv1'].parameters():\n",
    "    p.requires_grad = True\n",
    "    \n",
    "for p in model.net._modules['bn1'].parameters():\n",
    "    p.requires_grad = True\n",
    "\n",
    "# model_RGB"
   ]
  },
  {
   "cell_type": "code",
   "execution_count": 73,
   "metadata": {},
   "outputs": [
    {
     "name": "stdout",
     "output_type": "stream",
     "text": [
      "True\n"
     ]
    }
   ],
   "source": [
    "\n",
    "# for p in model.net._modules['conv1'].parameters():\n",
    "#     print(p.requires_grad)\n",
    "    \n",
    "# for p in model.net._modules['layer1'][0]._modules['bn1'].parameters():\n",
    "#     print(p.requires_grad)"
   ]
  },
  {
   "cell_type": "markdown",
   "metadata": {},
   "source": [
    "# Training"
   ]
  },
  {
   "cell_type": "code",
   "execution_count": 20,
   "metadata": {},
   "outputs": [],
   "source": [
    "def save_model(model, name, info={}):\n",
    "    state = {\n",
    "        'model': model.state_dict(),\n",
    "        'info': info\n",
    "    }\n",
    "    path = F\"models/{name}\" \n",
    "    torch.save(state, path)"
   ]
  },
  {
   "cell_type": "code",
   "execution_count": 21,
   "metadata": {},
   "outputs": [],
   "source": [
    "import time\n",
    "\n",
    "    \n",
    "def validate(model, criterion, val_dl):\n",
    "    \n",
    "    val_loss = 0.\n",
    "    val_corrects = 0\n",
    "    model.eval()\n",
    "    for i, (batch, labels) in enumerate(val_dl):\n",
    "        N = batch.shape[0]\n",
    "        batch = batch.cuda()\n",
    "\n",
    "        preds = model(batch).detach().cpu()\n",
    "        val_loss += criterion(preds, labels)\n",
    "        val_corrects += (preds.argmax(dim=-1) == labels).detach().cpu().float().sum()\n",
    "\n",
    "    val_acc = val_corrects.float() / len(val_dl.sampler)\n",
    "    return val_loss, val_acc\n",
    "\n",
    "\n",
    "def train_epoch(model, train_dl, criterion, optimizer):\n",
    "    \n",
    "    epoch_loss = 0.\n",
    "    train_corrects = 0\n",
    "\n",
    "    model.train()\n",
    "    for i, (batch, labels) in enumerate(train_dl):\n",
    "        N = batch.shape[0]\n",
    "        batch = batch.cuda()\n",
    "        labels = labels.cuda()\n",
    "\n",
    "        preds = model(batch)\n",
    "        loss = criterion(preds, labels)\n",
    "\n",
    "        optimizer.zero_grad()\n",
    "        loss.backward()\n",
    "        optimizer.step()\n",
    "\n",
    "        epoch_loss += loss.detach().cpu()\n",
    "        train_corrects += (preds.argmax(dim=-1) == labels).detach().cpu().float().sum()\n",
    "\n",
    "    train_acc = train_corrects.float() / len(train_dl.sampler)\n",
    "    return epoch_loss, train_acc\n",
    "\n",
    "\n",
    "def train_clf(model, train_dl, val_dl, optimizer, sched, params, callback=lambda x: None, save_name='model', best_acc=0.85):\n",
    "\n",
    "    criterion = nn.CrossEntropyLoss()\n",
    "\n",
    "    torch.cuda.empty_cache()\n",
    "    for epoch in range(params['epochs']):\n",
    "        start_time = time.time()\n",
    "\n",
    "        # train (fwd pass and backprop)\n",
    "        epoch_loss, train_acc = train_epoch(model, train_dl, criterion, optimizer)\n",
    "\n",
    "        # validate\n",
    "        val_loss, val_acc = validate(model, criterion, val_dl)\n",
    "\n",
    "        # save best model so far\n",
    "        if val_acc >= (best_acc + 0.005) and val_acc > 0.8:\n",
    "            best_acc = val_acc\n",
    "            info = {'acc': val_acc, 'epoch': epoch, 'val_loss': val_loss, 'lr': optimizer.param_groups[0]['lr']}\n",
    "            save_model(model, save_name, info=info)\n",
    "\n",
    "        print('epoch: %3d, lr: %0.8f, epoch_loss: %4.4f, val_loss: %4.4f, train_acc: %0.4f, val_acc: %0.4f, best: %0.4f, time: %0.1f' % (epoch, optimizer.param_groups[0]['lr'], epoch_loss, val_loss, train_acc, val_acc, best_acc, time.time() - start_time))\n",
    "        sched.step()\n",
    "        callback(model)\n",
    "    "
   ]
  },
  {
   "cell_type": "code",
   "execution_count": 22,
   "metadata": {},
   "outputs": [],
   "source": [
    "model = model_RGB\n",
    "\n",
    "train_params = {}\n",
    "train_params['batch_size'] = 64\n",
    "train_params['val_batch_size'] = 512\n"
   ]
  },
  {
   "cell_type": "code",
   "execution_count": 23,
   "metadata": {},
   "outputs": [],
   "source": [
    "train_dl = data.DataLoader(train_ds, sampler=train_sampler, batch_size=train_params['batch_size'], pin_memory=False, num_workers=4)\n",
    "val_dl = data.DataLoader(val_ds, sampler=val_sampler, batch_size=train_params['val_batch_size'], pin_memory=False, num_workers=4)"
   ]
  },
  {
   "cell_type": "code",
   "execution_count": 50,
   "metadata": {},
   "outputs": [
    {
     "name": "stdout",
     "output_type": "stream",
     "text": [
      "save_name resnet18_765_3x3_f\n",
      "59 / 62 parameters frozen\n"
     ]
    }
   ],
   "source": [
    "save_name = 'resnet18_765_3x3_f'\n",
    "\n",
    "print('save_name', save_name)\n",
    "print(f'{sum(not p.requires_grad for p in model.parameters())} / {len(list(model.parameters()))} parameters frozen')\n"
   ]
  },
  {
   "cell_type": "code",
   "execution_count": 51,
   "metadata": {},
   "outputs": [
    {
     "name": "stdout",
     "output_type": "stream",
     "text": [
      "epoch:   0, lr: 0.01000000, epoch_loss: 13.1366, val_loss: 0.3562, train_acc: 0.9786, val_acc: 0.9739, best: 0.9739, time: 27.0\n",
      "epoch:   1, lr: 0.00994460, epoch_loss: 13.2794, val_loss: 0.4606, train_acc: 0.9775, val_acc: 0.9750, best: 0.9739, time: 27.1\n",
      "epoch:   2, lr: 0.00977975, epoch_loss: 12.9671, val_loss: 0.4251, train_acc: 0.9776, val_acc: 0.9708, best: 0.9739, time: 27.5\n",
      "epoch:   3, lr: 0.00950953, epoch_loss: 12.9167, val_loss: 0.3648, train_acc: 0.9791, val_acc: 0.9735, best: 0.9739, time: 28.2\n",
      "epoch:   4, lr: 0.00914058, epoch_loss: 13.3687, val_loss: 0.4454, train_acc: 0.9786, val_acc: 0.9715, best: 0.9739, time: 27.5\n",
      "epoch:   5, lr: 0.00868198, epoch_loss: 13.3169, val_loss: 0.3973, train_acc: 0.9788, val_acc: 0.9712, best: 0.9739, time: 27.4\n",
      "epoch:   6, lr: 0.00814503, epoch_loss: 13.4797, val_loss: 0.3741, train_acc: 0.9794, val_acc: 0.9739, best: 0.9739, time: 27.2\n",
      "epoch:   7, lr: 0.00754296, epoch_loss: 13.1805, val_loss: 0.5013, train_acc: 0.9799, val_acc: 0.9685, best: 0.9739, time: 27.3\n",
      "epoch:   8, lr: 0.00689058, epoch_loss: 13.3986, val_loss: 0.4797, train_acc: 0.9800, val_acc: 0.9712, best: 0.9739, time: 27.2\n",
      "epoch:   9, lr: 0.00620396, epoch_loss: 13.3829, val_loss: 0.3928, train_acc: 0.9791, val_acc: 0.9742, best: 0.9739, time: 27.2\n",
      "epoch:  10, lr: 0.00550000, epoch_loss: 13.3427, val_loss: 0.3827, train_acc: 0.9788, val_acc: 0.9727, best: 0.9739, time: 27.2\n",
      "epoch:  11, lr: 0.00479604, epoch_loss: 13.6694, val_loss: 0.4541, train_acc: 0.9789, val_acc: 0.9742, best: 0.9739, time: 27.2\n",
      "epoch:  12, lr: 0.00410942, epoch_loss: 13.6450, val_loss: 0.3708, train_acc: 0.9789, val_acc: 0.9742, best: 0.9739, time: 28.0\n",
      "epoch:  13, lr: 0.00345704, epoch_loss: 13.5423, val_loss: 0.4267, train_acc: 0.9790, val_acc: 0.9746, best: 0.9739, time: 27.6\n",
      "epoch:  14, lr: 0.00285497, epoch_loss: 13.5673, val_loss: 0.4093, train_acc: 0.9792, val_acc: 0.9750, best: 0.9739, time: 27.4\n",
      "epoch:  15, lr: 0.00231802, epoch_loss: 13.6709, val_loss: 0.3614, train_acc: 0.9787, val_acc: 0.9750, best: 0.9739, time: 27.6\n",
      "epoch:  16, lr: 0.00185942, epoch_loss: 13.6121, val_loss: 0.3729, train_acc: 0.9806, val_acc: 0.9746, best: 0.9739, time: 28.0\n",
      "epoch:  17, lr: 0.00149047, epoch_loss: 13.5164, val_loss: 0.3976, train_acc: 0.9801, val_acc: 0.9735, best: 0.9739, time: 27.6\n",
      "epoch:  18, lr: 0.00122025, epoch_loss: 13.7807, val_loss: 0.4167, train_acc: 0.9793, val_acc: 0.9739, best: 0.9739, time: 28.2\n",
      "epoch:  19, lr: 0.00105540, epoch_loss: 13.1769, val_loss: 0.4338, train_acc: 0.9813, val_acc: 0.9750, best: 0.9739, time: 27.6\n"
     ]
    }
   ],
   "source": [
    "\n",
    "train_params['epochs'] = 20\n",
    "train_params['learning_rate'] = 1e-2\n",
    "\n",
    "optimizer = optim.SGD(model.parameters(), lr=train_params['learning_rate'], momentum=0.9, weight_decay=5e-4)\n",
    "# optimizer = optim.Adam(model.parameters(), lr=train_params['learning_rate'], weight_decay=5e-4)\n",
    "\n",
    "sched = optim.lr_scheduler.CosineAnnealingLR(optimizer, train_params['epochs'], eta_min=1e-3)\n",
    "\n",
    "torch.cuda.empty_cache()\n",
    "train_clf(model, train_dl, val_dl, optimizer, sched, train_params, save_name=save_name, best_acc=.9)\n"
   ]
  },
  {
   "cell_type": "code",
   "execution_count": 36,
   "metadata": {},
   "outputs": [],
   "source": [
    "info = {'acc': .9677, 'epoch': -1, 'val_loss': .5007, 'lr': 0.01055402}\n",
    "save_model(model, 'resnet18_421_3x3', info=info)"
   ]
  },
  {
   "cell_type": "code",
   "execution_count": 74,
   "metadata": {},
   "outputs": [],
   "source": [
    "val_iter = iter(val_dl)"
   ]
  },
  {
   "cell_type": "code",
   "execution_count": 75,
   "metadata": {},
   "outputs": [
    {
     "data": {
      "text/plain": [
       "tensor(0.6016)"
      ]
     },
     "execution_count": 75,
     "metadata": {},
     "output_type": "execute_result"
    }
   ],
   "source": [
    "b = next(val_iter)\n",
    "b[1].sum().float() / len(b[1])\n",
    "# plt.imshow(val_ds[17000][0].permute(1, 2, 0))"
   ]
  },
  {
   "cell_type": "code",
   "execution_count": 76,
   "metadata": {},
   "outputs": [
    {
     "data": {
      "text/plain": [
       "tensor(0.9688)"
      ]
     },
     "execution_count": 76,
     "metadata": {},
     "output_type": "execute_result"
    }
   ],
   "source": [
    "model.eval()\n",
    "(model(b[0].cuda()).argmax(dim=-1).cpu() == b[1]).float().mean()"
   ]
  },
  {
   "cell_type": "code",
   "execution_count": null,
   "metadata": {},
   "outputs": [],
   "source": [
    "preds = model(b[0].cuda()).argmax(dim=-1).cpu()\n",
    "mask = (preds == b[1])\n",
    "\n",
    "for im, pred_label, label in zip(b[0][mask], preds[mask], b[1][mask]):\n",
    "    plt.imshow(im.detach().permute(1, 2, 0))\n",
    "    plt.suptitle(f'pred: {pred_label}, gt: {label}')\n",
    "    plt.show()"
   ]
  },
  {
   "cell_type": "code",
   "execution_count": 141,
   "metadata": {},
   "outputs": [
    {
     "data": {
      "image/png": "[encoded data removed]",
      "text/plain": [
       "<Figure size 432x288 with 1 Axes>"
      ]
     },
     "metadata": {
      "needs_background": "light"
     },
     "output_type": "display_data"
    }
   ],
   "source": [
    "i = int(torch.rand(1) * len(train_ds))\n",
    "plt.imshow(train_ds[i][0].detach().permute(1, 2, 0))\n",
    "plt.suptitle(f'{i}, fname: {train_ds.fnames[i]}, {train_ds[i][1]}')\n",
    "plt.show()"
   ]
  },
  {
   "cell_type": "code",
   "execution_count": null,
   "metadata": {},
   "outputs": [],
   "source": [
    "train_ds[5333]"
   ]
  },
  {
   "cell_type": "code",
   "execution_count": 152,
   "metadata": {},
   "outputs": [
    {
     "data": {
      "image/png": "[encoded data removed]",
      "text/plain": [
       "<Figure size 432x288 with 1 Axes>"
      ]
     },
     "metadata": {
      "needs_background": "light"
     },
     "output_type": "display_data"
    },
    {
     "data": {
      "image/png": "[encoded data removed]",
      "text/plain": [
       "<Figure size 432x288 with 1 Axes>"
      ]
     },
     "metadata": {
      "needs_background": "light"
     },
     "output_type": "display_data"
    },
    {
     "data": {
      "image/png": "[encoded data removed]",
      "text/plain": [
       "<Figure size 432x288 with 1 Axes>"
      ]
     },
     "metadata": {
      "needs_background": "light"
     },
     "output_type": "display_data"
    },
    {
     "name": "stdout",
     "output_type": "stream",
     "text": [
      "tensor(1)\n"
     ]
    }
   ],
   "source": [
    "i = int(torch.rand(1) * len(train_ds))\n",
    "plt.imshow(train_ds[i][0].detach().permute(1, 2, 0))\n",
    "plt.suptitle(f'{i}, fname: {train_ds.fnames[i]}, {train_ds[i][1]}')\n",
    "plt.show()\n",
    "\n",
    "im = np.load(f'data/train-img/{train_ds.fnames[i]}')\n",
    "l = np.load(f'data/train-labels/{train_ds.fnames[i]}')\n",
    "plt.imshow(im[..., [4, 2, 1]][::8, ::8])\n",
    "plt.show()\n",
    "plt.imshow(l[::8, ::8])\n",
    "plt.show()\n",
    "print((torch.tensor(l[::8, ::8]) == 1).any().long())"
   ]
  },
  {
   "cell_type": "code",
   "execution_count": 131,
   "metadata": {},
   "outputs": [
    {
     "name": "stdout",
     "output_type": "stream",
     "text": [
      "tensor([0.2467, 0.3536, 0.2232, 0.4437, 0.4835])\n"
     ]
    },
    {
     "data": {
      "text/plain": [
       "tensor([0.2467, 0.2232, 0.4835])"
      ]
     },
     "execution_count": 131,
     "metadata": {},
     "output_type": "execute_result"
    }
   ],
   "source": [
    "t = torch.rand(5)\n",
    "print(t)\n",
    "\n",
    "t[torch.tensor([True, False, True, False, True]).long().byte()]"
   ]
  },
  {
   "cell_type": "code",
   "execution_count": 153,
   "metadata": {},
   "outputs": [
    {
     "data": {
      "text/plain": [
       "torch.Size([64, 3, 7, 7])"
      ]
     },
     "execution_count": 153,
     "metadata": {},
     "output_type": "execute_result"
    }
   ],
   "source": []
  },
  {
   "cell_type": "markdown",
   "metadata": {},
   "source": [
    "## Visualization: Pre-trained Resnet18 7x7 filters"
   ]
  },
  {
   "cell_type": "code",
   "execution_count": 166,
   "metadata": {},
   "outputs": [
    {
     "data": {
      "image/png": "[encoded data removed]",
      "text/plain": [
       "<Figure size 1008x1008 with 1 Axes>"
      ]
     },
     "metadata": {
      "needs_background": "light"
     },
     "output_type": "display_data"
    }
   ],
   "source": [
    "fs = model.net._modules['conv1'].weight.data.clone().detach().cpu()\n",
    "grid = utils.make_grid(fs, normalize=True, padding=1).permute(1, 2, 0)\n",
    "\n",
    "plt.figure(figsize=(14,14))\n",
    "plt.imshow(grid)\n",
    "how(grid, cmap='gray')\n",
    "plt.axis('off')\n",
    "plt.show()"
   ]
  },
  {
   "cell_type": "markdown",
   "metadata": {},
   "source": [
    "## 3x3 filters trained on RGB"
   ]
  },
  {
   "cell_type": "code",
   "execution_count": 26,
   "metadata": {},
   "outputs": [
    {
     "data": {
      "image/png": "[encoded data removed]",
      "text/plain": [
       "<Figure size 1008x1008 with 1 Axes>"
      ]
     },
     "metadata": {
      "needs_background": "light"
     },
     "output_type": "display_data"
    }
   ],
   "source": [
    "fs = model.net._modules['conv1'].weight.data.clone().detach().cpu()\n",
    "grid = utils.make_grid(fs, normalize=True, padding=1).permute(1, 2, 0)\n",
    "\n",
    "plt.figure(figsize=(14,14))\n",
    "plt.imshow(grid)\n",
    "plt.axis('off')\n",
    "plt.show()"
   ]
  },
  {
   "cell_type": "code",
   "execution_count": 38,
   "metadata": {},
   "outputs": [
    {
     "data": {
      "image/png": "[encoded data removed]",
      "text/plain": [
       "<Figure size 1008x1008 with 1 Axes>"
      ]
     },
     "metadata": {
      "needs_background": "light"
     },
     "output_type": "display_data"
    }
   ],
   "source": [
    "fs = model.net._modules['conv1'].weight.data.clone().detach().cpu()\n",
    "grid = utils.make_grid(fs, normalize=True, scale_each=True, padding=1).permute(1, 2, 0)\n",
    "\n",
    "plt.figure(figsize=(14,14))\n",
    "plt.imshow(grid)\n",
    "plt.axis('off')\n",
    "plt.show()"
   ]
  },
  {
   "cell_type": "code",
   "execution_count": null,
   "metadata": {},
   "outputs": [],
   "source": []
  },
  {
   "cell_type": "markdown",
   "metadata": {},
   "source": [
    "## 3x3 filters trained on channels [7, 6, 5] (Near-IR2, Near-IR1, Red-Edge)"
   ]
  },
  {
   "cell_type": "code",
   "execution_count": 52,
   "metadata": {},
   "outputs": [
    {
     "data": {
      "image/png": "[encoded data removed]",
      "text/plain": [
       "<Figure size 1008x1008 with 1 Axes>"
      ]
     },
     "metadata": {
      "needs_background": "light"
     },
     "output_type": "display_data"
    }
   ],
   "source": [
    "fs = model.net._modules['conv1'].weight.data.clone().detach().cpu()\n",
    "grid = utils.make_grid(fs, normalize=True, padding=1).permute(1, 2, 0)\n",
    "\n",
    "plt.figure(figsize=(14,14))\n",
    "plt.imshow(grid)\n",
    "plt.axis('off')\n",
    "plt.show()"
   ]
  },
  {
   "cell_type": "code",
   "execution_count": 53,
   "metadata": {},
   "outputs": [
    {
     "data": {
      "image/png": "[encoded data removed]",
      "text/plain": [
       "<Figure size 1008x1008 with 1 Axes>"
      ]
     },
     "metadata": {
      "needs_background": "light"
     },
     "output_type": "display_data"
    }
   ],
   "source": [
    "fs = model.net._modules['conv1'].weight.data.clone().detach().cpu()\n",
    "grid = utils.make_grid(fs, normalize=True, scale_each=True, padding=1).permute(1, 2, 0)\n",
    "\n",
    "plt.figure(figsize=(14,14))\n",
    "plt.imshow(grid)\n",
    "plt.axis('off')\n",
    "plt.show()"
   ]
  },
  {
   "cell_type": "code",
   "execution_count": null,
   "metadata": {},
   "outputs": [],
   "source": [
    "plt.imshow(fs[0].permute(1, 2, 0).abs() / fs[0].max(), cmap='gray')"
   ]
  }
 ],
 "metadata": {
  "kernelspec": {
   "display_name": "Python 3",
   "language": "python",
   "name": "python3"
  },
  "language_info": {
   "codemirror_mode": {
    "name": "ipython",
    "version": 3
   },
   "file_extension": ".py",
   "mimetype": "text/x-python",
   "name": "python",
   "nbconvert_exporter": "python",
   "pygments_lexer": "ipython3",
   "version": "3.7.3"
  }
 },
 "nbformat": 4,
 "nbformat_minor": 4
}
