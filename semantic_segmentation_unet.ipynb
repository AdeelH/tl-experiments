{
  "nbformat": 4,
  "nbformat_minor": 0,
  "metadata": {
    "colab": {
      "name": "semantic_segmentation_unet.ipynb",
      "version": "0.3.2",
      "provenance": [],
      "collapsed_sections": [],
      "include_colab_link": true
    },
    "language_info": {
      "codemirror_mode": {
        "name": "ipython",
        "version": 3
      },
      "file_extension": ".py",
      "mimetype": "text/x-python",
      "name": "python",
      "nbconvert_exporter": "python",
      "pygments_lexer": "ipython3",
      "version": "3.7.3"
    },
    "kernelspec": {
      "name": "python3",
      "display_name": "Python 3"
    },
    "accelerator": "GPU"
  },
  "cells": [
    {
      "cell_type": "markdown",
      "metadata": {
        "id": "view-in-github",
        "colab_type": "text"
      },
      "source": [
        "<a href=\"https://colab.research.google.com/github/AdeelH/tl-experiments/blob/master/semantic_segmentation_unet.ipynb\" target=\"_parent\"><img src=\"https://colab.research.google.com/assets/colab-badge.svg\" alt=\"Open In Colab\"/></a>"
      ]
    },
    {
      "cell_type": "code",
      "metadata": {
        "id": "iNiskaNL1AL7",
        "colab_type": "code",
        "outputId": "09a18c19-3ef6-4305-a2d3-a683537a32dd",
        "colab": {
          "base_uri": "https://localhost:8080/",
          "height": 328
        }
      },
      "source": [
        "!nvidia-smi"
      ],
      "execution_count": 0,
      "outputs": [
        {
          "output_type": "stream",
          "text": [
            "Wed Jul 10 12:50:52 2019       \n",
            "+-----------------------------------------------------------------------------+\n",
            "| NVIDIA-SMI 418.67       Driver Version: 410.79       CUDA Version: 10.0     |\n",
            "|-------------------------------+----------------------+----------------------+\n",
            "| GPU  Name        Persistence-M| Bus-Id        Disp.A | Volatile Uncorr. ECC |\n",
            "| Fan  Temp  Perf  Pwr:Usage/Cap|         Memory-Usage | GPU-Util  Compute M. |\n",
            "|===============================+======================+======================|\n",
            "|   0  Tesla T4            Off  | 00000000:00:04.0 Off |                    0 |\n",
            "| N/A   65C    P0    30W /  70W |      0MiB / 15079MiB |      0%      Default |\n",
            "+-------------------------------+----------------------+----------------------+\n",
            "                                                                               \n",
            "+-----------------------------------------------------------------------------+\n",
            "| Processes:                                                       GPU Memory |\n",
            "|  GPU       PID   Type   Process name                             Usage      |\n",
            "|=============================================================================|\n",
            "|  No running processes found                                                 |\n",
            "+-----------------------------------------------------------------------------+\n"
          ],
          "name": "stdout"
        }
      ]
    },
    {
      "cell_type": "code",
      "metadata": {
        "id": "JyNH0f-T1H1P",
        "colab_type": "code",
        "outputId": "b3f38d34-1210-49dc-e945-5c93904a9202",
        "colab": {
          "base_uri": "https://localhost:8080/",
          "height": 328
        }
      },
      "source": [
        "!pip install rasterio"
      ],
      "execution_count": 0,
      "outputs": [
        {
          "output_type": "stream",
          "text": [
            "Collecting rasterio\n",
            "\u001b[?25l  Downloading https://files.pythonhosted.org/packages/a2/d6/f5dc5b31b5bbb8c9cf0ae2f38a31e4406994db48f9f14d9434588c935c7c/rasterio-1.0.24-cp36-cp36m-manylinux1_x86_64.whl (19.7MB)\n",
            "\u001b[K     |████████████████████████████████| 19.7MB 4.9MB/s \n",
            "\u001b[?25hCollecting affine (from rasterio)\n",
            "  Downloading https://files.pythonhosted.org/packages/56/5d/6877929932d17850fa4903d0db8233ec8ed35aab7ceae96fa44ea6d479bd/affine-2.2.2-py2.py3-none-any.whl\n",
            "Requirement already satisfied: click<8,>=4.0 in /usr/local/lib/python3.6/dist-packages (from rasterio) (7.0)\n",
            "Collecting snuggs>=1.4.1 (from rasterio)\n",
            "  Downloading https://files.pythonhosted.org/packages/58/14/8e90b7586ab6929861161e73e9fd55637a060e4d14dd1be14a4b8a08751f/snuggs-1.4.6-py3-none-any.whl\n",
            "Collecting cligj>=0.5 (from rasterio)\n",
            "  Downloading https://files.pythonhosted.org/packages/e4/be/30a58b4b0733850280d01f8bd132591b4668ed5c7046761098d665ac2174/cligj-0.5.0-py3-none-any.whl\n",
            "Requirement already satisfied: numpy in /usr/local/lib/python3.6/dist-packages (from rasterio) (1.16.4)\n",
            "Collecting click-plugins (from rasterio)\n",
            "  Downloading https://files.pythonhosted.org/packages/e9/da/824b92d9942f4e472702488857914bdd50f73021efea15b4cad9aca8ecef/click_plugins-1.1.1-py2.py3-none-any.whl\n",
            "Requirement already satisfied: attrs in /usr/local/lib/python3.6/dist-packages (from rasterio) (19.1.0)\n",
            "Requirement already satisfied: pyparsing>=2.1.6 in /usr/local/lib/python3.6/dist-packages (from snuggs>=1.4.1->rasterio) (2.4.0)\n",
            "Installing collected packages: affine, snuggs, cligj, click-plugins, rasterio\n",
            "Successfully installed affine-2.2.2 click-plugins-1.1.1 cligj-0.5.0 rasterio-1.0.24 snuggs-1.4.6\n"
          ],
          "name": "stdout"
        }
      ]
    },
    {
      "cell_type": "code",
      "metadata": {
        "id": "ZiEWGqIQ0vaQ",
        "colab_type": "code",
        "colab": {}
      },
      "source": [
        "import os\n",
        "from pathlib import Path\n",
        "from glob import glob\n",
        "import copy\n",
        "\n",
        "import numpy as np\n",
        "import torch\n",
        "from torch import nn\n",
        "from torch import optim\n",
        "from torch.nn import functional as F\n",
        "import torch.utils\n",
        "import torchvision as tv\n",
        "from torchvision import transforms as tf\n",
        "\n",
        "from fastai.vision import *\n",
        "from fastai.metrics import error_rate\n",
        "\n",
        "from PIL import Image\n",
        "import rasterio\n",
        "import matplotlib.pyplot as plt\n",
        "%reload_ext autoreload\n",
        "%autoreload 2\n",
        "%matplotlib inline"
      ],
      "execution_count": 0,
      "outputs": []
    },
    {
      "cell_type": "markdown",
      "metadata": {
        "id": "nFx-wiDz0vaa",
        "colab_type": "text"
      },
      "source": [
        "# Data"
      ]
    },
    {
      "cell_type": "code",
      "metadata": {
        "id": "K718o_PV0vac",
        "colab_type": "code",
        "outputId": "0c282bfd-3d33-41a7-a2fb-7b14ca1c86dc",
        "colab": {
          "base_uri": "https://localhost:8080/",
          "height": 123
        }
      },
      "source": [
        "import pickle\n",
        "\n",
        "from google.colab import drive\n",
        "drive.mount('/content/gdrive')\n",
        "\n",
        "\n",
        "with open('/content/gdrive/My Drive/potsdam/potsdam.pkl', 'rb') as f:\n",
        "    potsdam_dict = pickle.load(f)\n"
      ],
      "execution_count": 0,
      "outputs": [
        {
          "output_type": "stream",
          "text": [
            "Go to this URL in a browser: https://accounts.google.com/o/oauth2/auth?client_id=947318989803-6bn6qk8qdgf4n4g3pfee6491hc0brc4i.apps.googleusercontent.com&redirect_uri=urn%3Aietf%3Awg%3Aoauth%3A2.0%3Aoob&scope=email%20https%3A%2F%2Fwww.googleapis.com%2Fauth%2Fdocs.test%20https%3A%2F%2Fwww.googleapis.com%2Fauth%2Fdrive%20https%3A%2F%2Fwww.googleapis.com%2Fauth%2Fdrive.photos.readonly%20https%3A%2F%2Fwww.googleapis.com%2Fauth%2Fpeopleapi.readonly&response_type=code\n",
            "\n",
            "Enter your authorization code:\n",
            "··········\n",
            "Mounted at /content/gdrive\n"
          ],
          "name": "stdout"
        }
      ]
    },
    {
      "cell_type": "code",
      "metadata": {
        "id": "il4qnwN80vah",
        "colab_type": "code",
        "colab": {}
      },
      "source": [
        "identity = lambda x: x\n",
        "\n",
        "class Potsdam(tv.datasets.VisionDataset):\n",
        "    \n",
        "    def __init__(self, d, chip_size=100, stride=1, tf=identity, x_tf=identity, y_tf=identity):\n",
        "        super(Potsdam).__init__()\n",
        "\n",
        "        self.data = list(d.values())\n",
        "        self.fnames = list(d.keys())\n",
        "\n",
        "        self.n = len(d)\n",
        "        self.chip_size = chip_size\n",
        "\n",
        "        im_size = self.data[0][2].shape\n",
        "        self.h = ((im_size[0] - chip_size) // stride) + 1\n",
        "        self.w = ((im_size[1] - chip_size) // stride) + 1\n",
        "\n",
        "        self.tf, self.x_tf, self.y_tf = tf, x_tf, y_tf\n",
        "\n",
        "\n",
        "    def __len__(self):\n",
        "        return self.n * self.w * self.h\n",
        "    \n",
        "    def __getitem__(self, i):\n",
        "        if isinstance(i, (int, np.integer)):\n",
        "            return self._load(i)\n",
        "        if isinstance(i, np.ndarray) or isinstance(i, torch.Tensor):\n",
        "            i = i.squeeze()\n",
        "            assert i.ndim in (0, 1), \"too many dimensions\"\n",
        "            if i.ndim == 0:\n",
        "                return self._load(i)\n",
        "            return [self._load(j) for j in i]\n",
        "        if isinstance(i, slice):\n",
        "            return [self._load(j) for j in range(*i.indices(len(self.fnames)))]\n",
        "        assert False, f\"__getitem__(i): Invalid index\"\n",
        "        \n",
        "    def _to_chip_idx(self, i):\n",
        "        im_idx = i // (self.w * self.h)\n",
        "        im_i = i % (self.w * self.h)\n",
        "        chip_col = im_i % self.w\n",
        "        chip_row = im_i // self.h\n",
        "        return im_idx, chip_row, chip_col\n",
        "\n",
        "    def _load(self, i):\n",
        "        im_idx, chip_row, chip_col = self._to_chip_idx(i)\n",
        "        rgbir, elevation, label  = self.data[im_idx]\n",
        "\n",
        "        rgbir_chip = rgbir[:, chip_row : chip_row + self.chip_size, chip_col : chip_col + self.chip_size]\n",
        "        elevation_chip = elevation[chip_row : chip_row + self.chip_size, chip_col : chip_col + self.chip_size]\n",
        "        label_chip = label[chip_row : chip_row + self.chip_size, chip_col : chip_col + self.chip_size]\n",
        "\n",
        "        x = torch.cat((rgbir_chip, elevation_chip.unsqueeze(0)), dim=0).float() / 255\n",
        "\n",
        "        x, y = self.tf((x, label_chip))\n",
        "\n",
        "        return self.x_tf(x), self.y_tf(y)\n"
      ],
      "execution_count": 0,
      "outputs": []
    },
    {
      "cell_type": "code",
      "metadata": {
        "jupyter": {
          "source_hidden": true
        },
        "id": "wJnOhtZy0van",
        "colab_type": "code",
        "colab": {}
      },
      "source": [
        "class Downsample(object):\n",
        "    def __init__(self, factor):\n",
        "        self.factor = factor\n",
        "    \n",
        "    def __call__(self, arrs):\n",
        "        return [np.ascontiguousarray(a[..., ::self.factor, ::self.factor]) for a in arrs]\n",
        "    \n",
        "    def __repr__(self):\n",
        "        return self.__class__.__name__ + f'(factor={self.factor})'\n",
        "\n",
        "\n",
        "class RandomFlip(object):\n",
        "    def __init__(self, h_prob=0.5, v_prob=0.5):\n",
        "        self.h_prob = h_prob\n",
        "        self.v_prob = v_prob\n",
        "    \n",
        "    def __call__(self, arrs):\n",
        "        if torch.rand(1) < self.v_prob:\n",
        "            arrs = [arr.flip(-2) for arr in arrs]\n",
        "        if torch.rand(1) < self.h_prob:\n",
        "            arrs = [arr.flip(-1) for arr in arrs]\n",
        "        return arrs\n",
        "\n",
        "    def __repr__(self):\n",
        "        return self.__class__.__name__ + f'(h_prob={self.h_prob}, v_prob={self.v_prob})'\n",
        "\n",
        "\n",
        "class ChannelSelect(object):\n",
        "    def __init__(self, channels):\n",
        "        self.channels = channels\n",
        "    \n",
        "    def __call__(self, arr):\n",
        "        return arr[self.channels]\n",
        "\n",
        "    def __repr__(self):\n",
        "        return self.__class__.__name__ + f'(channels={self.channels})'\n",
        "    \n"
      ],
      "execution_count": 0,
      "outputs": []
    },
    {
      "cell_type": "code",
      "metadata": {
        "id": "-L1WfSYq0var",
        "colab_type": "code",
        "colab": {}
      },
      "source": [
        "channels = [4]\n",
        "\n",
        "train_transform = tf.Compose([\n",
        "    Downsample(2),\n",
        "    tf.Lambda(lambda xs: [torch.tensor(x) for x in xs]),\n",
        "    RandomFlip(),\n",
        "])\n",
        "\n",
        "val_transform = tf.Compose([\n",
        "    Downsample(2),\n",
        "    tf.Lambda(lambda xs: [torch.tensor(x) for x in xs]),\n",
        "])\n",
        "\n",
        "x_transform = tf.Compose([\n",
        "    ChannelSelect(channels)\n",
        "])\n",
        "\n",
        "y_transform = tf.Compose([\n",
        "    tf.Lambda(lambda x: x.long())\n",
        "])\n"
      ],
      "execution_count": 0,
      "outputs": []
    },
    {
      "cell_type": "code",
      "metadata": {
        "id": "T_wx1bDn0vav",
        "colab_type": "code",
        "colab": {}
      },
      "source": [
        "train_ds = Potsdam(potsdam_dict, chip_size=400, stride=200, tf=train_transform, x_tf=x_transform, y_tf=y_transform)\n",
        "val_ds = Potsdam(potsdam_dict, chip_size=400, stride=200, tf=val_transform, x_tf=x_transform, y_tf=y_transform)"
      ],
      "execution_count": 0,
      "outputs": []
    },
    {
      "cell_type": "code",
      "metadata": {
        "id": "BlmBcgOd0va0",
        "colab_type": "code",
        "outputId": "4320bc71-6a6b-453c-cbda-e3793895d1f8",
        "colab": {
          "base_uri": "https://localhost:8080/",
          "height": 34
        }
      },
      "source": [
        "len(val_ds)"
      ],
      "execution_count": 0,
      "outputs": [
        {
          "output_type": "execute_result",
          "data": {
            "text/plain": [
              "15138"
            ]
          },
          "metadata": {
            "tags": []
          },
          "execution_count": 9
        }
      ]
    },
    {
      "cell_type": "code",
      "metadata": {
        "id": "6WX9x_yE0va7",
        "colab_type": "code",
        "outputId": "a15edfe2-6114-4683-e824-b8fd42d02cc5",
        "colab": {
          "base_uri": "https://localhost:8080/",
          "height": 34
        }
      },
      "source": [
        "val_ds[0][0].shape"
      ],
      "execution_count": 0,
      "outputs": [
        {
          "output_type": "execute_result",
          "data": {
            "text/plain": [
              "torch.Size([1, 200, 200])"
            ]
          },
          "metadata": {
            "tags": []
          },
          "execution_count": 10
        }
      ]
    },
    {
      "cell_type": "markdown",
      "metadata": {
        "id": "kkpNBJsi0vbA",
        "colab_type": "text"
      },
      "source": [
        "# Split into train and validation sets using `SubsetRandomSampler()`"
      ]
    },
    {
      "cell_type": "code",
      "metadata": {
        "id": "VTBlIgh30vbD",
        "colab_type": "code",
        "outputId": "dd09cd88-8cfc-458e-cc33-bcc63ae2bb3e",
        "colab": {
          "base_uri": "https://localhost:8080/",
          "height": 51
        }
      },
      "source": [
        "train_split_size = int(len(train_ds) * .85 // 1)\n",
        "val_split_size = len(train_ds) - train_split_size\n",
        "train_split_size, val_split_size\n",
        "\n",
        "print('train_split_size', train_split_size)\n",
        "print('val_split_size', val_split_size)\n",
        "\n",
        "inds = np.arange(len(train_ds))\n",
        "np.random.shuffle(inds)"
      ],
      "execution_count": 0,
      "outputs": [
        {
          "output_type": "stream",
          "text": [
            "train_split_size 12867\n",
            "val_split_size 2271\n"
          ],
          "name": "stdout"
        }
      ]
    },
    {
      "cell_type": "code",
      "metadata": {
        "id": "sYhl4Yz80vbJ",
        "colab_type": "code",
        "colab": {}
      },
      "source": [
        "train_sampler = torch.utils.data.SubsetRandomSampler(inds[:train_split_size])\n",
        "val_sampler = torch.utils.data.SubsetRandomSampler(inds[train_split_size:])"
      ],
      "execution_count": 0,
      "outputs": []
    },
    {
      "cell_type": "markdown",
      "metadata": {
        "id": "u3YgDzmD0vbN",
        "colab_type": "text"
      },
      "source": [
        "# Model"
      ]
    },
    {
      "cell_type": "code",
      "metadata": {
        "id": "eNQm0Lbr0vbO",
        "colab_type": "code",
        "colab": {}
      },
      "source": [
        "def _base_model(pretrained=False):\n",
        "    m = tv.models.resnet18(pretrained=pretrained)\n",
        "    m._modules['conv1'] = nn.Conv2d(1, 64, kernel_size=(7, 7), stride=(2, 2), padding=(3, 3), bias=False)\n",
        "    return m\n"
      ],
      "execution_count": 0,
      "outputs": []
    },
    {
      "cell_type": "code",
      "metadata": {
        "id": "9ifb3v000vbR",
        "colab_type": "code",
        "outputId": "b49a0d1e-8f38-42fa-b698-430dbfcb52fd",
        "colab": {
          "base_uri": "https://localhost:8080/",
          "height": 1000
        }
      },
      "source": [
        "model = models.unet.DynamicUnet(create_body(_base_model, pretrained=True), 6).cuda()\n",
        "model"
      ],
      "execution_count": 0,
      "outputs": [
        {
          "output_type": "stream",
          "text": [
            "Downloading: \"https://download.pytorch.org/models/resnet18-5c106cde.pth\" to /root/.cache/torch/checkpoints/resnet18-5c106cde.pth\n",
            "100%|██████████| 46827520/46827520 [00:00<00:00, 73359944.83it/s]\n"
          ],
          "name": "stderr"
        },
        {
          "output_type": "execute_result",
          "data": {
            "text/plain": [
              "DynamicUnet(\n",
              "  (layers): ModuleList(\n",
              "    (0): Sequential(\n",
              "      (0): Conv2d(1, 64, kernel_size=(7, 7), stride=(2, 2), padding=(3, 3), bias=False)\n",
              "      (1): BatchNorm2d(64, eps=1e-05, momentum=0.1, affine=True, track_running_stats=True)\n",
              "      (2): ReLU(inplace)\n",
              "      (3): MaxPool2d(kernel_size=3, stride=2, padding=1, dilation=1, ceil_mode=False)\n",
              "      (4): Sequential(\n",
              "        (0): BasicBlock(\n",
              "          (conv1): Conv2d(64, 64, kernel_size=(3, 3), stride=(1, 1), padding=(1, 1), bias=False)\n",
              "          (bn1): BatchNorm2d(64, eps=1e-05, momentum=0.1, affine=True, track_running_stats=True)\n",
              "          (relu): ReLU(inplace)\n",
              "          (conv2): Conv2d(64, 64, kernel_size=(3, 3), stride=(1, 1), padding=(1, 1), bias=False)\n",
              "          (bn2): BatchNorm2d(64, eps=1e-05, momentum=0.1, affine=True, track_running_stats=True)\n",
              "        )\n",
              "        (1): BasicBlock(\n",
              "          (conv1): Conv2d(64, 64, kernel_size=(3, 3), stride=(1, 1), padding=(1, 1), bias=False)\n",
              "          (bn1): BatchNorm2d(64, eps=1e-05, momentum=0.1, affine=True, track_running_stats=True)\n",
              "          (relu): ReLU(inplace)\n",
              "          (conv2): Conv2d(64, 64, kernel_size=(3, 3), stride=(1, 1), padding=(1, 1), bias=False)\n",
              "          (bn2): BatchNorm2d(64, eps=1e-05, momentum=0.1, affine=True, track_running_stats=True)\n",
              "        )\n",
              "      )\n",
              "      (5): Sequential(\n",
              "        (0): BasicBlock(\n",
              "          (conv1): Conv2d(64, 128, kernel_size=(3, 3), stride=(2, 2), padding=(1, 1), bias=False)\n",
              "          (bn1): BatchNorm2d(128, eps=1e-05, momentum=0.1, affine=True, track_running_stats=True)\n",
              "          (relu): ReLU(inplace)\n",
              "          (conv2): Conv2d(128, 128, kernel_size=(3, 3), stride=(1, 1), padding=(1, 1), bias=False)\n",
              "          (bn2): BatchNorm2d(128, eps=1e-05, momentum=0.1, affine=True, track_running_stats=True)\n",
              "          (downsample): Sequential(\n",
              "            (0): Conv2d(64, 128, kernel_size=(1, 1), stride=(2, 2), bias=False)\n",
              "            (1): BatchNorm2d(128, eps=1e-05, momentum=0.1, affine=True, track_running_stats=True)\n",
              "          )\n",
              "        )\n",
              "        (1): BasicBlock(\n",
              "          (conv1): Conv2d(128, 128, kernel_size=(3, 3), stride=(1, 1), padding=(1, 1), bias=False)\n",
              "          (bn1): BatchNorm2d(128, eps=1e-05, momentum=0.1, affine=True, track_running_stats=True)\n",
              "          (relu): ReLU(inplace)\n",
              "          (conv2): Conv2d(128, 128, kernel_size=(3, 3), stride=(1, 1), padding=(1, 1), bias=False)\n",
              "          (bn2): BatchNorm2d(128, eps=1e-05, momentum=0.1, affine=True, track_running_stats=True)\n",
              "        )\n",
              "      )\n",
              "      (6): Sequential(\n",
              "        (0): BasicBlock(\n",
              "          (conv1): Conv2d(128, 256, kernel_size=(3, 3), stride=(2, 2), padding=(1, 1), bias=False)\n",
              "          (bn1): BatchNorm2d(256, eps=1e-05, momentum=0.1, affine=True, track_running_stats=True)\n",
              "          (relu): ReLU(inplace)\n",
              "          (conv2): Conv2d(256, 256, kernel_size=(3, 3), stride=(1, 1), padding=(1, 1), bias=False)\n",
              "          (bn2): BatchNorm2d(256, eps=1e-05, momentum=0.1, affine=True, track_running_stats=True)\n",
              "          (downsample): Sequential(\n",
              "            (0): Conv2d(128, 256, kernel_size=(1, 1), stride=(2, 2), bias=False)\n",
              "            (1): BatchNorm2d(256, eps=1e-05, momentum=0.1, affine=True, track_running_stats=True)\n",
              "          )\n",
              "        )\n",
              "        (1): BasicBlock(\n",
              "          (conv1): Conv2d(256, 256, kernel_size=(3, 3), stride=(1, 1), padding=(1, 1), bias=False)\n",
              "          (bn1): BatchNorm2d(256, eps=1e-05, momentum=0.1, affine=True, track_running_stats=True)\n",
              "          (relu): ReLU(inplace)\n",
              "          (conv2): Conv2d(256, 256, kernel_size=(3, 3), stride=(1, 1), padding=(1, 1), bias=False)\n",
              "          (bn2): BatchNorm2d(256, eps=1e-05, momentum=0.1, affine=True, track_running_stats=True)\n",
              "        )\n",
              "      )\n",
              "      (7): Sequential(\n",
              "        (0): BasicBlock(\n",
              "          (conv1): Conv2d(256, 512, kernel_size=(3, 3), stride=(2, 2), padding=(1, 1), bias=False)\n",
              "          (bn1): BatchNorm2d(512, eps=1e-05, momentum=0.1, affine=True, track_running_stats=True)\n",
              "          (relu): ReLU(inplace)\n",
              "          (conv2): Conv2d(512, 512, kernel_size=(3, 3), stride=(1, 1), padding=(1, 1), bias=False)\n",
              "          (bn2): BatchNorm2d(512, eps=1e-05, momentum=0.1, affine=True, track_running_stats=True)\n",
              "          (downsample): Sequential(\n",
              "            (0): Conv2d(256, 512, kernel_size=(1, 1), stride=(2, 2), bias=False)\n",
              "            (1): BatchNorm2d(512, eps=1e-05, momentum=0.1, affine=True, track_running_stats=True)\n",
              "          )\n",
              "        )\n",
              "        (1): BasicBlock(\n",
              "          (conv1): Conv2d(512, 512, kernel_size=(3, 3), stride=(1, 1), padding=(1, 1), bias=False)\n",
              "          (bn1): BatchNorm2d(512, eps=1e-05, momentum=0.1, affine=True, track_running_stats=True)\n",
              "          (relu): ReLU(inplace)\n",
              "          (conv2): Conv2d(512, 512, kernel_size=(3, 3), stride=(1, 1), padding=(1, 1), bias=False)\n",
              "          (bn2): BatchNorm2d(512, eps=1e-05, momentum=0.1, affine=True, track_running_stats=True)\n",
              "        )\n",
              "      )\n",
              "    )\n",
              "    (1): BatchNorm2d(512, eps=1e-05, momentum=0.1, affine=True, track_running_stats=True)\n",
              "    (2): ReLU()\n",
              "    (3): Sequential(\n",
              "      (0): Sequential(\n",
              "        (0): Conv2d(512, 1024, kernel_size=(3, 3), stride=(1, 1), padding=(1, 1), bias=False)\n",
              "        (1): ReLU(inplace)\n",
              "        (2): BatchNorm2d(1024, eps=1e-05, momentum=0.1, affine=True, track_running_stats=True)\n",
              "      )\n",
              "      (1): Sequential(\n",
              "        (0): Conv2d(1024, 512, kernel_size=(3, 3), stride=(1, 1), padding=(1, 1), bias=False)\n",
              "        (1): ReLU(inplace)\n",
              "        (2): BatchNorm2d(512, eps=1e-05, momentum=0.1, affine=True, track_running_stats=True)\n",
              "      )\n",
              "    )\n",
              "    (4): UnetBlock(\n",
              "      (shuf): PixelShuffle_ICNR(\n",
              "        (conv): Sequential(\n",
              "          (0): Conv2d(512, 1024, kernel_size=(1, 1), stride=(1, 1))\n",
              "        )\n",
              "        (shuf): PixelShuffle(upscale_factor=2)\n",
              "        (pad): ReplicationPad2d((1, 0, 1, 0))\n",
              "        (blur): AvgPool2d(kernel_size=2, stride=1, padding=0)\n",
              "        (relu): ReLU(inplace)\n",
              "      )\n",
              "      (bn): BatchNorm2d(256, eps=1e-05, momentum=0.1, affine=True, track_running_stats=True)\n",
              "      (conv1): Sequential(\n",
              "        (0): Conv2d(512, 512, kernel_size=(3, 3), stride=(1, 1), padding=(1, 1), bias=False)\n",
              "        (1): ReLU(inplace)\n",
              "        (2): BatchNorm2d(512, eps=1e-05, momentum=0.1, affine=True, track_running_stats=True)\n",
              "      )\n",
              "      (conv2): Sequential(\n",
              "        (0): Conv2d(512, 512, kernel_size=(3, 3), stride=(1, 1), padding=(1, 1), bias=False)\n",
              "        (1): ReLU(inplace)\n",
              "        (2): BatchNorm2d(512, eps=1e-05, momentum=0.1, affine=True, track_running_stats=True)\n",
              "      )\n",
              "      (relu): ReLU()\n",
              "    )\n",
              "    (5): UnetBlock(\n",
              "      (shuf): PixelShuffle_ICNR(\n",
              "        (conv): Sequential(\n",
              "          (0): Conv2d(512, 1024, kernel_size=(1, 1), stride=(1, 1))\n",
              "        )\n",
              "        (shuf): PixelShuffle(upscale_factor=2)\n",
              "        (pad): ReplicationPad2d((1, 0, 1, 0))\n",
              "        (blur): AvgPool2d(kernel_size=2, stride=1, padding=0)\n",
              "        (relu): ReLU(inplace)\n",
              "      )\n",
              "      (bn): BatchNorm2d(128, eps=1e-05, momentum=0.1, affine=True, track_running_stats=True)\n",
              "      (conv1): Sequential(\n",
              "        (0): Conv2d(384, 384, kernel_size=(3, 3), stride=(1, 1), padding=(1, 1), bias=False)\n",
              "        (1): ReLU(inplace)\n",
              "        (2): BatchNorm2d(384, eps=1e-05, momentum=0.1, affine=True, track_running_stats=True)\n",
              "      )\n",
              "      (conv2): Sequential(\n",
              "        (0): Conv2d(384, 384, kernel_size=(3, 3), stride=(1, 1), padding=(1, 1), bias=False)\n",
              "        (1): ReLU(inplace)\n",
              "        (2): BatchNorm2d(384, eps=1e-05, momentum=0.1, affine=True, track_running_stats=True)\n",
              "      )\n",
              "      (relu): ReLU()\n",
              "    )\n",
              "    (6): UnetBlock(\n",
              "      (shuf): PixelShuffle_ICNR(\n",
              "        (conv): Sequential(\n",
              "          (0): Conv2d(384, 768, kernel_size=(1, 1), stride=(1, 1))\n",
              "        )\n",
              "        (shuf): PixelShuffle(upscale_factor=2)\n",
              "        (pad): ReplicationPad2d((1, 0, 1, 0))\n",
              "        (blur): AvgPool2d(kernel_size=2, stride=1, padding=0)\n",
              "        (relu): ReLU(inplace)\n",
              "      )\n",
              "      (bn): BatchNorm2d(64, eps=1e-05, momentum=0.1, affine=True, track_running_stats=True)\n",
              "      (conv1): Sequential(\n",
              "        (0): Conv2d(256, 256, kernel_size=(3, 3), stride=(1, 1), padding=(1, 1), bias=False)\n",
              "        (1): ReLU(inplace)\n",
              "        (2): BatchNorm2d(256, eps=1e-05, momentum=0.1, affine=True, track_running_stats=True)\n",
              "      )\n",
              "      (conv2): Sequential(\n",
              "        (0): Conv2d(256, 256, kernel_size=(3, 3), stride=(1, 1), padding=(1, 1), bias=False)\n",
              "        (1): ReLU(inplace)\n",
              "        (2): BatchNorm2d(256, eps=1e-05, momentum=0.1, affine=True, track_running_stats=True)\n",
              "      )\n",
              "      (relu): ReLU()\n",
              "    )\n",
              "    (7): UnetBlock(\n",
              "      (shuf): PixelShuffle_ICNR(\n",
              "        (conv): Sequential(\n",
              "          (0): Conv2d(256, 512, kernel_size=(1, 1), stride=(1, 1))\n",
              "        )\n",
              "        (shuf): PixelShuffle(upscale_factor=2)\n",
              "        (pad): ReplicationPad2d((1, 0, 1, 0))\n",
              "        (blur): AvgPool2d(kernel_size=2, stride=1, padding=0)\n",
              "        (relu): ReLU(inplace)\n",
              "      )\n",
              "      (bn): BatchNorm2d(64, eps=1e-05, momentum=0.1, affine=True, track_running_stats=True)\n",
              "      (conv1): Sequential(\n",
              "        (0): Conv2d(192, 96, kernel_size=(3, 3), stride=(1, 1), padding=(1, 1), bias=False)\n",
              "        (1): ReLU(inplace)\n",
              "        (2): BatchNorm2d(96, eps=1e-05, momentum=0.1, affine=True, track_running_stats=True)\n",
              "      )\n",
              "      (conv2): Sequential(\n",
              "        (0): Conv2d(96, 96, kernel_size=(3, 3), stride=(1, 1), padding=(1, 1), bias=False)\n",
              "        (1): ReLU(inplace)\n",
              "        (2): BatchNorm2d(96, eps=1e-05, momentum=0.1, affine=True, track_running_stats=True)\n",
              "      )\n",
              "      (relu): ReLU()\n",
              "    )\n",
              "    (8): PixelShuffle_ICNR(\n",
              "      (conv): Sequential(\n",
              "        (0): Conv2d(96, 384, kernel_size=(1, 1), stride=(1, 1))\n",
              "      )\n",
              "      (shuf): PixelShuffle(upscale_factor=2)\n",
              "      (pad): ReplicationPad2d((1, 0, 1, 0))\n",
              "      (blur): AvgPool2d(kernel_size=2, stride=1, padding=0)\n",
              "      (relu): ReLU(inplace)\n",
              "    )\n",
              "    (9): MergeLayer()\n",
              "    (10): SequentialEx(\n",
              "      (layers): ModuleList(\n",
              "        (0): Sequential(\n",
              "          (0): Conv2d(97, 97, kernel_size=(3, 3), stride=(1, 1), padding=(1, 1), bias=False)\n",
              "          (1): ReLU(inplace)\n",
              "          (2): BatchNorm2d(97, eps=1e-05, momentum=0.1, affine=True, track_running_stats=True)\n",
              "        )\n",
              "        (1): Sequential(\n",
              "          (0): Conv2d(97, 97, kernel_size=(3, 3), stride=(1, 1), padding=(1, 1), bias=False)\n",
              "          (1): ReLU(inplace)\n",
              "          (2): BatchNorm2d(97, eps=1e-05, momentum=0.1, affine=True, track_running_stats=True)\n",
              "        )\n",
              "        (2): MergeLayer()\n",
              "      )\n",
              "    )\n",
              "    (11): Sequential(\n",
              "      (0): Conv2d(97, 6, kernel_size=(1, 1), stride=(1, 1), bias=False)\n",
              "      (1): BatchNorm2d(6, eps=1e-05, momentum=0.1, affine=True, track_running_stats=True)\n",
              "    )\n",
              "  )\n",
              ")"
            ]
          },
          "metadata": {
            "tags": []
          },
          "execution_count": 14
        }
      ]
    },
    {
      "cell_type": "code",
      "metadata": {
        "id": "ktmeZeww0vbW",
        "colab_type": "code",
        "colab": {}
      },
      "source": [
        "val_iter = (iter(val_sampler))"
      ],
      "execution_count": 0,
      "outputs": []
    },
    {
      "cell_type": "code",
      "metadata": {
        "id": "DuY6MWE40vbe",
        "colab_type": "code",
        "outputId": "a12e98ff-d06f-46e2-b62c-6b65ff426397",
        "colab": {
          "base_uri": "https://localhost:8080/",
          "height": 773
        }
      },
      "source": [
        "i = next(val_iter)\n",
        "\n",
        "model.eval()\n",
        "with torch.no_grad():\n",
        "    x = val_ds[i][0][-1:].unsqueeze(0).cuda()\n",
        "    out = model(x)\n",
        "    \n",
        "yhat = out.cpu().squeeze().permute(1, 2, 0).argmax(dim=-1)\n",
        "\n",
        "plt.imshow(yhat)\n",
        "plt.show()\n",
        "\n",
        "plt.imshow(val_ds[i][1])\n",
        "plt.show()\n",
        "\n",
        "plt.imshow((val_ds[i][1] - yhat).abs())\n",
        "plt.show()\n",
        "\n"
      ],
      "execution_count": 31,
      "outputs": [
        {
          "output_type": "display_data",
          "data": {
            "image/png": "[encoded data removed]",
            "text/plain": [
              "<Figure size 432x288 with 1 Axes>"
            ]
          },
          "metadata": {
            "tags": []
          }
        },
        {
          "output_type": "display_data",
          "data": {
            "image/png": "[encoded data removed]",
            "text/plain": [
              "<Figure size 432x288 with 1 Axes>"
            ]
          },
          "metadata": {
            "tags": []
          }
        },
        {
          "output_type": "display_data",
          "data": {
            "image/png": "[encoded data removed]",
            "text/plain": [
              "<Figure size 432x288 with 1 Axes>"
            ]
          },
          "metadata": {
            "tags": []
          }
        }
      ]
    },
    {
      "cell_type": "code",
      "metadata": {
        "id": "jOOtqho40vbr",
        "colab_type": "code",
        "outputId": "1a70ded6-aa32-4937-db60-23f2745742c3",
        "colab": {
          "base_uri": "https://localhost:8080/",
          "height": 54
        }
      },
      "source": [
        "from google.colab import drive\n",
        "drive.mount('/content/gdrive')\n",
        "\n",
        "def save_model(model, name, info={}):\n",
        "    state = {\n",
        "        'model': model.state_dict(),\n",
        "        'info': info\n",
        "    }\n",
        "    path = F\"/content/gdrive/My Drive/potsdam/models/{name}\" \n",
        "    torch.save(state, path)\n"
      ],
      "execution_count": 0,
      "outputs": [
        {
          "output_type": "stream",
          "text": [
            "Drive already mounted at /content/gdrive; to attempt to forcibly remount, call drive.mount(\"/content/gdrive\", force_remount=True).\n"
          ],
          "name": "stdout"
        }
      ]
    },
    {
      "cell_type": "code",
      "metadata": {
        "id": "iqzmBBhr0vbu",
        "colab_type": "code",
        "colab": {}
      },
      "source": [
        "import time\n",
        "\n",
        "    \n",
        "def validate(model, criterion, val_dl):\n",
        "    \n",
        "    loss = 0.\n",
        "    corrects = 0\n",
        "    count = 0\n",
        "    \n",
        "    torch.cuda.empty_cache()\n",
        "    model.eval()\n",
        "    with torch.no_grad():\n",
        "        for i, (batch, labels) in enumerate(val_dl):\n",
        "            N = batch.shape[0]\n",
        "            batch = batch.cuda()\n",
        "            labels = labels.view(-1)\n",
        "\n",
        "            preds = model(batch).detach().cpu().permute(0, 2, 3, 1).contiguous()\n",
        "            preds = preds.view(-1, preds.shape[-1])\n",
        "            \n",
        "            loss += criterion(preds, labels)\n",
        "            corrects += (preds.argmax(dim=-1) == labels).detach().float().sum()\n",
        "            count += len(labels)\n",
        "\n",
        "    acc = corrects.float() / count\n",
        "#     loss /=  count\n",
        "    return loss, acc\n",
        "\n",
        "\n",
        "def train_epoch(model, train_dl, criterion, optimizer):\n",
        "    \n",
        "    loss = 0.\n",
        "    corrects = 0\n",
        "    count = 0\n",
        "\n",
        "    model.train()\n",
        "    for i, (batch, labels) in enumerate(train_dl):\n",
        "        N = batch.shape[0]\n",
        "        batch = batch.cuda()\n",
        "        labels = labels.view(-1).cuda()\n",
        "\n",
        "        preds = model(batch).permute(0, 2, 3, 1).contiguous()\n",
        "        preds = preds.view(-1, preds.shape[-1])\n",
        "        \n",
        "        loss = criterion(preds, labels)\n",
        "\n",
        "        optimizer.zero_grad()\n",
        "        loss.backward()\n",
        "        optimizer.step()\n",
        "\n",
        "        loss += loss.detach().cpu()\n",
        "        corrects += (preds.argmax(dim=-1) == labels).detach().cpu().sum()\n",
        "        count += len(labels)\n",
        "\n",
        "    acc = corrects.float() / count\n",
        "#     loss /=  count\n",
        "    \n",
        "    return loss, acc\n",
        "\n",
        "\n",
        "def train_seg(model, train_dl, val_dl, optimizer, sched, params, criterion=nn.CrossEntropyLoss(), callback=lambda x: None, save_name='model', best_acc=0.85):\n",
        "    '''Train a classification model.\n",
        "    \n",
        "    Args:\n",
        "        - model: The model to be trained (must be a `nn.Module`).\n",
        "        - train_dl: A `torch.utils.data.Dataloader` for training data.\n",
        "        - val_dl: A `torch.utils.data.Dataloader` for validation data.\n",
        "        - optimizer: The optimizer to use for training.\n",
        "        - sched: The LR scheduler to use for training. `sched.step()` will be called after each epoch.\n",
        "        - params: Additional training parameters.\n",
        "        - criterion: Loss function.\n",
        "        - callback: A callback that is called at the end of each epoch.\n",
        "        - save_name: Filename to use for saving the model.\n",
        "        - best_acc: Initial value for best-accuracy-so-far.\n",
        "    '''\n",
        "\n",
        "    torch.cuda.empty_cache()\n",
        "    for epoch in range(params['epochs']):\n",
        "        \n",
        "        start_time = time.time()\n",
        "\n",
        "        # train (fwd pass and backprop)\n",
        "        epoch_loss, train_acc = train_epoch(model, train_dl, criterion, optimizer)\n",
        "\n",
        "        # validate\n",
        "        val_loss, val_acc = validate(model, criterion, val_dl)\n",
        "\n",
        "        # save best model so far\n",
        "        # save only if there is an improvement of >=0.05%\n",
        "        if val_acc >= (best_acc + 0.005):\n",
        "            best_acc = val_acc\n",
        "            info = {'acc': val_acc, 'epoch': epoch, 'val_loss': val_loss, 'lr': optimizer.param_groups[0]['lr']}\n",
        "            save_model(model, save_name, info=info)\n",
        "\n",
        "        print('epoch: %3d, lr: %0.8f, epoch_loss: %4.4f, val_loss: %4.4f, train_acc: %0.4f, val_acc: %0.4f, best: %0.4f, time: %0.1f' % \\\n",
        "              (epoch, optimizer.param_groups[0]['lr'], epoch_loss, val_loss, train_acc, val_acc, best_acc, time.time() - start_time))\n",
        "        sched.step()\n",
        "        callback(model)\n"
      ],
      "execution_count": 0,
      "outputs": []
    },
    {
      "cell_type": "code",
      "metadata": {
        "id": "qqFS613S0vbx",
        "colab_type": "code",
        "colab": {}
      },
      "source": [
        "train_params = {}\n",
        "train_params['batch_size'] = 32\n",
        "train_params['val_batch_size'] = 64"
      ],
      "execution_count": 0,
      "outputs": []
    },
    {
      "cell_type": "code",
      "metadata": {
        "id": "U8azFSM40vb1",
        "colab_type": "code",
        "colab": {}
      },
      "source": [
        "train_dl = torch.utils.data.DataLoader(train_ds, sampler=train_sampler, batch_size=train_params['batch_size'], pin_memory=False, num_workers=4)\n",
        "val_dl = torch.utils.data.DataLoader(val_ds, sampler=val_sampler, batch_size=train_params['val_batch_size'], pin_memory=False, num_workers=4)"
      ],
      "execution_count": 0,
      "outputs": []
    },
    {
      "cell_type": "code",
      "metadata": {
        "scrolled": true,
        "id": "omT_4TPW0vb4",
        "colab_type": "code",
        "outputId": "4cbfbad5-c268-4c49-dca3-586f5643cdcb",
        "colab": {
          "base_uri": "https://localhost:8080/",
          "height": 123
        }
      },
      "source": [
        "\n",
        "train_params = {}\n",
        "train_params['epochs'] = 5\n",
        "train_params['learning_rate'] = 1e-2\n",
        "train_params['learning_rate_min'] = 1e-3\n",
        "\n",
        "train_params['model_save_name'] = 'resnet18_elevation_100x100_7x7'\n",
        "\n",
        "optimizer = optim.SGD(model.parameters(), lr=train_params['learning_rate'], momentum=0.9, weight_decay=5e-4)\n",
        "\n",
        "sched = optim.lr_scheduler.CosineAnnealingLR(optimizer, train_params['epochs'], eta_min=train_params['learning_rate_min'])\n",
        "\n",
        "train_seg(model, train_dl, val_dl, optimizer, sched, train_params, save_name=train_params['model_save_name'], best_acc=0.975)\n"
      ],
      "execution_count": 0,
      "outputs": [
        {
          "output_type": "stream",
          "text": [
            "epoch:   0, lr: 0.01000000, epoch_loss: 1.1804, val_loss: 1.2310, train_acc: 0.9862, val_acc: 0.9870, best: 0.9870, time: 439.0\n",
            "epoch:   1, lr: 0.00914058, epoch_loss: 2.3181, val_loss: 1.1683, train_acc: 0.9855, val_acc: 0.9877, best: 0.9870, time: 424.8\n",
            "epoch:   2, lr: 0.00689058, epoch_loss: 0.1303, val_loss: 1.0699, train_acc: 0.9867, val_acc: 0.9890, best: 0.9870, time: 424.8\n",
            "epoch:   3, lr: 0.00410942, epoch_loss: 1.0722, val_loss: 1.0209, train_acc: 0.9881, val_acc: 0.9896, best: 0.9870, time: 424.6\n",
            "epoch:   4, lr: 0.00185942, epoch_loss: 0.2592, val_loss: 0.9958, train_acc: 0.9885, val_acc: 0.9897, best: 0.9870, time: 425.0\n"
          ],
          "name": "stdout"
        }
      ]
    },
    {
      "cell_type": "code",
      "metadata": {
        "id": "EryKfpgp0vb9",
        "colab_type": "code",
        "outputId": "d68d6714-ea3d-4062-b5ec-e028f0edefdc",
        "colab": {
          "base_uri": "https://localhost:8080/",
          "height": 34
        }
      },
      "source": [
        "validate(model, nn.CrossEntropyLoss(), val_dl)"
      ],
      "execution_count": 0,
      "outputs": [
        {
          "output_type": "execute_result",
          "data": {
            "text/plain": [
              "(tensor(32.7899), tensor(0.2416))"
            ]
          },
          "metadata": {
            "tags": []
          },
          "execution_count": 35
        }
      ]
    },
    {
      "cell_type": "code",
      "metadata": {
        "id": "CaCSRZKcSoK8",
        "colab_type": "code",
        "outputId": "5fe08717-6597-4007-c1a8-765efeab79bd",
        "colab": {
          "base_uri": "https://localhost:8080/",
          "height": 71
        }
      },
      "source": [
        "def load_weights(model_save_name, model):\n",
        "    from google.colab import drive\n",
        "    drive.mount('/content/gdrive')\n",
        "    \n",
        "    path = F\"/content/gdrive/My Drive/potsdam/models/{model_save_name}\"\n",
        "    state = torch.load(path)\n",
        "    print(state['info'])\n",
        "    model.load_state_dict(state['model'])\n",
        "\n",
        "load_weights('resnet18_elevation_100x100_7x7', model)"
      ],
      "execution_count": 0,
      "outputs": [
        {
          "output_type": "stream",
          "text": [
            "Drive already mounted at /content/gdrive; to attempt to forcibly remount, call drive.mount(\"/content/gdrive\", force_remount=True).\n",
            "{'acc': tensor(0.9871), 'epoch': 0, 'val_loss': tensor(1.2504), 'lr': 0.01}\n"
          ],
          "name": "stdout"
        }
      ]
    },
    {
      "cell_type": "code",
      "metadata": {
        "id": "L6nQwKUt0vcD",
        "colab_type": "code",
        "outputId": "f4463abf-6721-401f-e0df-625815f3b37d",
        "colab": {
          "base_uri": "https://localhost:8080/",
          "height": 809
        }
      },
      "source": [
        "def viz_filters(conv_layer, scale_each=True):\n",
        "    fs = conv_layer.weight.data.clone().detach().cpu()\n",
        "    grid = tv.utils.make_grid(fs, normalize=True, scale_each=scale_each, padding=1).permute(1, 2, 0)\n",
        "\n",
        "    plt.figure(figsize=(14, 14))\n",
        "    plt.imshow(grid)\n",
        "    plt.axis('off')\n",
        "    plt.show()\n",
        "    \n",
        "viz_filters(model[0][0], scale_each=True)"
      ],
      "execution_count": 22,
      "outputs": [
        {
          "output_type": "display_data",
          "data": {
            "image/png": "[encoded data removed]",
            "text/plain": [
              "<Figure size 1008x1008 with 1 Axes>"
            ]
          },
          "metadata": {
            "tags": []
          }
        }
      ]
    },
    {
      "cell_type": "code",
      "metadata": {
        "id": "iJ0FGncM0vcI",
        "colab_type": "code",
        "colab": {}
      },
      "source": [
        "model"
      ],
      "execution_count": 0,
      "outputs": []
    }
  ]
}